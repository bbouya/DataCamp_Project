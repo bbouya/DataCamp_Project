{
 "cells": [
  {
   "cell_type": "markdown",
   "metadata": {},
   "source": [
    "## Preparing our dataset\n",
    "\n",
    "Over the past few years, streaming services with huge catalogs have become the primary means through which most peaple listen to teir favorite music, but at the same time, the sheer amoint of music on offer can mean users might be a bit overwhelmed when trying t olook for newer music their tastes.\n",
    "\n",
    "for this reason, streaming serives have looked into means of categorizing music to allow for personalized recommendation, one method involves direct analysis of the raw audio information in a given song, scoring the raw data on a variety of matrics, today we will be examining data compiled by a research group known a the ECHO NEST, our goal is to look through this dataset and classify songs as being either 'hip hop' or 'rock' - all wothout listening to a single one ourselves, in doing so n we will learn how to clean some simple machine learning algorithms. such as decision trees and logistic regression.\n",
    " to begin with, lets load the metadata about our tracks alongside the track such as danceablity and acousticness on a scale from -1 to 1. these exist in two different files, which are in different in which databases often return the results of a given query.\n",
    " \n",
    "\n",
    " "
   ]
  },
  {
   "cell_type": "code",
   "execution_count": 2,
   "metadata": {},
   "outputs": [],
   "source": [
    "## importation de library\n",
    "import pandas as pd "
   ]
  },
  {
   "cell_type": "code",
   "execution_count": 8,
   "metadata": {},
   "outputs": [],
   "source": [
    "## Read in track metadata with genre labels :\n",
    "url = (r'https://raw.githubusercontent.com/anuraglahon16/DataCamp-Projects-Solutions/master/Classify%20Song%20Genres%20from%20Audio%20Data/fma-rock-vs-hiphop.csv')\n",
    "url_json = (r'https://raw.githubusercontent.com/anuraglahon16/DataCamp-Projects-Solutions/master/Classify%20Song%20Genres%20from%20Audio%20Data/echonest-metrics.json')\n",
    "\n",
    "## Read in track metrics with the features :\n",
    "tracks = pd.read_csv(url)\n",
    "echonest_metrics = pd.read_json(url_json)\n",
    "\n"
   ]
  },
  {
   "cell_type": "code",
   "execution_count": 9,
   "metadata": {},
   "outputs": [
    {
     "name": "stdout",
     "output_type": "stream",
     "text": [
      "   track_id  bit_rate  comments  ... publisher tags                       title\n",
      "0       135    256000         1  ...       NaN   []                Father's Day\n",
      "1       136    256000         1  ...       NaN   []  Peel Back The Mountain Sky\n",
      "\n",
      "[2 rows x 21 columns]\n",
      "   track_id  acousticness  danceability  ...  speechiness    tempo   valence\n",
      "0         2      0.416675      0.675894  ...     0.159310  165.922  0.576661\n",
      "1         3      0.374408      0.528643  ...     0.461818  126.957  0.269240\n",
      "\n",
      "[2 rows x 9 columns]\n"
     ]
    }
   ],
   "source": [
    "print(tracks.head(2))\n",
    "print(echonest_metrics.head(2))\n"
   ]
  },
  {
   "cell_type": "code",
   "execution_count": 10,
   "metadata": {},
   "outputs": [
    {
     "name": "stdout",
     "output_type": "stream",
     "text": [
      "Index(['track_id', 'bit_rate', 'comments', 'composer', 'date_created',\n",
      "       'date_recorded', 'duration', 'favorites', 'genre_top', 'genres',\n",
      "       'genres_all', 'information', 'interest', 'language_code', 'license',\n",
      "       'listens', 'lyricist', 'number', 'publisher', 'tags', 'title'],\n",
      "      dtype='object')\n",
      "Index(['track_id', 'acousticness', 'danceability', 'energy',\n",
      "       'instrumentalness', 'liveness', 'speechiness', 'tempo', 'valence'],\n",
      "      dtype='object')\n"
     ]
    }
   ],
   "source": [
    "print(tracks.columns)\n",
    "print(echonest_metrics.columns)"
   ]
  },
  {
   "cell_type": "code",
   "execution_count": 5,
   "metadata": {},
   "outputs": [
    {
     "name": "stdout",
     "output_type": "stream",
     "text": [
      "<class 'pandas.core.frame.DataFrame'>\n",
      "Int64Index: 4802 entries, 0 to 4801\n",
      "Data columns (total 10 columns):\n",
      " #   Column            Non-Null Count  Dtype  \n",
      "---  ------            --------------  -----  \n",
      " 0   track_id          4802 non-null   int64  \n",
      " 1   acousticness      4802 non-null   float64\n",
      " 2   danceability      4802 non-null   float64\n",
      " 3   energy            4802 non-null   float64\n",
      " 4   instrumentalness  4802 non-null   float64\n",
      " 5   liveness          4802 non-null   float64\n",
      " 6   speechiness       4802 non-null   float64\n",
      " 7   tempo             4802 non-null   float64\n",
      " 8   valence           4802 non-null   float64\n",
      " 9   genre_top         4802 non-null   object \n",
      "dtypes: float64(8), int64(1), object(1)\n",
      "memory usage: 412.7+ KB\n"
     ]
    }
   ],
   "source": [
    "## Merge the relevant columns of tracks and echonest_metrics\n",
    "echo_tracks = pd.merge(left = echonest_metrics, right= tracks[['track_id','genre_top']], on = 'track_id')\n",
    "\n",
    "## Inspect the resultant dataframe.\n",
    "echo_tracks.info()"
   ]
  },
  {
   "cell_type": "markdown",
   "metadata": {},
   "source": [
    "## Pairwise relationships between continuous variable:\n",
    "\n",
    "we typically want to avoid using variables that have strong correlation with each other, -- hence avoidiing fearue redundancy for a few reasons--\n",
    " -- To keep the model simple and imporve interpretablity (with many featurs we run the risk of overfitting)\n",
    " -- When our datasets are very large, using fewer feature can drastically speed up our computation time.\n",
    "\n",
    " "
   ]
  },
  {
   "cell_type": "markdown",
   "metadata": {},
   "source": []
  }
 ],
 "metadata": {
  "interpreter": {
   "hash": "fa10c741bd27078601995a3eee5b769e27023367af32fd69d6fd682fad768e7f"
  },
  "kernelspec": {
   "display_name": "Python 3.7.11 ('base')",
   "language": "python",
   "name": "python3"
  },
  "language_info": {
   "codemirror_mode": {
    "name": "ipython",
    "version": 3
   },
   "file_extension": ".py",
   "mimetype": "text/x-python",
   "name": "python",
   "nbconvert_exporter": "python",
   "pygments_lexer": "ipython3",
   "version": "3.7.11"
  },
  "orig_nbformat": 4
 },
 "nbformat": 4,
 "nbformat_minor": 2
}
